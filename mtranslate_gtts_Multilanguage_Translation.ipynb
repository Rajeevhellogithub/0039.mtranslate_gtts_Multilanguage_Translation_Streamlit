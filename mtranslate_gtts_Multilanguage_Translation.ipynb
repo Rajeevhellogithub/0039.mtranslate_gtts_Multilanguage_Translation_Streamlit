{
 "cells": [
  {
   "cell_type": "markdown",
   "id": "71f70c5c-5d05-4b76-84b5-c8cc281ad37a",
   "metadata": {
    "jp-MarkdownHeadingCollapsed": true
   },
   "source": [
    "## Import Libraries"
   ]
  },
  {
   "cell_type": "code",
   "execution_count": 81,
   "id": "1e9e42c2-c1bb-494a-b3c9-cc0c79eb920c",
   "metadata": {},
   "outputs": [],
   "source": [
    "import os\n",
    "import pandas as pd\n",
    "from mtranslate import translate\n",
    "from IPython.display import Audio\n",
    "from gtts import gTTS\n",
    "import base64\n",
    "import streamlit as st"
   ]
  },
  {
   "cell_type": "markdown",
   "id": "4462ccb2-4c26-4b75-aa78-83da3699db85",
   "metadata": {
    "jp-MarkdownHeadingCollapsed": true
   },
   "source": [
    "## Import Language CSV"
   ]
  },
  {
   "cell_type": "code",
   "execution_count": 4,
   "id": "cbf44e6e-53c1-4a24-b6b5-023432f5adc3",
   "metadata": {},
   "outputs": [],
   "source": [
    "df = pd.read_csv(r'language.csv')"
   ]
  },
  {
   "cell_type": "code",
   "execution_count": 7,
   "id": "1a90354b-820b-434e-8aaa-e28c52cf702b",
   "metadata": {},
   "outputs": [],
   "source": [
    "df.dropna(inplace=True)"
   ]
  },
  {
   "cell_type": "code",
   "execution_count": 8,
   "id": "ad5c72ad-8c2b-4483-a201-d93e8286cdad",
   "metadata": {},
   "outputs": [
    {
     "data": {
      "text/plain": [
       "(106, 2)"
      ]
     },
     "execution_count": 8,
     "metadata": {},
     "output_type": "execute_result"
    }
   ],
   "source": [
    "df.shape"
   ]
  },
  {
   "cell_type": "code",
   "execution_count": 9,
   "id": "d6f9bedb-1f48-4b51-9cb5-c66a934c5978",
   "metadata": {},
   "outputs": [
    {
     "data": {
      "text/html": [
       "<div>\n",
       "<style scoped>\n",
       "    .dataframe tbody tr th:only-of-type {\n",
       "        vertical-align: middle;\n",
       "    }\n",
       "\n",
       "    .dataframe tbody tr th {\n",
       "        vertical-align: top;\n",
       "    }\n",
       "\n",
       "    .dataframe thead th {\n",
       "        text-align: right;\n",
       "    }\n",
       "</style>\n",
       "<table border=\"1\" class=\"dataframe\">\n",
       "  <thead>\n",
       "    <tr style=\"text-align: right;\">\n",
       "      <th></th>\n",
       "      <th>name</th>\n",
       "      <th>iso</th>\n",
       "    </tr>\n",
       "  </thead>\n",
       "  <tbody>\n",
       "    <tr>\n",
       "      <th>0</th>\n",
       "      <td>Afrikaans</td>\n",
       "      <td>af</td>\n",
       "    </tr>\n",
       "    <tr>\n",
       "      <th>1</th>\n",
       "      <td>Albanian</td>\n",
       "      <td>sq</td>\n",
       "    </tr>\n",
       "    <tr>\n",
       "      <th>2</th>\n",
       "      <td>Amharic</td>\n",
       "      <td>am</td>\n",
       "    </tr>\n",
       "    <tr>\n",
       "      <th>3</th>\n",
       "      <td>Arabic</td>\n",
       "      <td>ar</td>\n",
       "    </tr>\n",
       "    <tr>\n",
       "      <th>4</th>\n",
       "      <td>Armenian</td>\n",
       "      <td>hy</td>\n",
       "    </tr>\n",
       "  </tbody>\n",
       "</table>\n",
       "</div>"
      ],
      "text/plain": [
       "        name iso\n",
       "0  Afrikaans  af\n",
       "1   Albanian  sq\n",
       "2    Amharic  am\n",
       "3     Arabic  ar\n",
       "4   Armenian  hy"
      ]
     },
     "execution_count": 9,
     "metadata": {},
     "output_type": "execute_result"
    }
   ],
   "source": [
    "df.head()"
   ]
  },
  {
   "cell_type": "code",
   "execution_count": 10,
   "id": "aed815be-79cf-40dc-a046-4ba3a6cbc617",
   "metadata": {},
   "outputs": [
    {
     "name": "stdout",
     "output_type": "stream",
     "text": [
      "['Afrikaans', 'Albanian', 'Amharic', 'Arabic', 'Armenian', 'Azerbaijani', 'Basque', 'Belarusian', 'Bengali', 'Bosnian', 'Bulgarian', 'Catalan', 'Cebuano', 'Chichewa', 'Chinese (Simplified)', 'Chinese (Traditional)', 'Corsican', 'Croatian', 'Czech', 'Danish', 'Dutch', 'English', 'Esperanto', 'Estonian', 'Filipino', 'Finnish', 'French', 'Frisian', 'Galician', 'Georgian', 'German', 'Greek', 'Gujarati', 'Haitian Creole', 'Hausa', 'Hawaiian', 'Hebrew', 'Hindi', 'Hmong', 'Hungarian', 'Icelandic', 'Igbo', 'Indonesian', 'Irish', 'Italian', 'Japanese', 'Javanese', 'Kannada', 'Kazakh', 'Khmer', 'Kinyarwanda', 'Korean', 'Kurdish (Kurmanji)', 'Kyrgyz', 'Lao', 'Latin', 'Latvian', 'Lithuanian', 'Luxembourgish', 'Macedonian', 'Malagasy', 'Malay', 'Malayalam', 'Maltese', 'Maori', 'Marathi', 'Mongolian', 'Myanmar (Burmese)', 'Nepali', 'Norwegian', 'Pashto', 'Persian', 'Polish', 'Portuguese', 'Punjabi', 'Romanian', 'Russian', 'Samoan', 'Scots Gaelic', 'Serbian', 'Sesotho', 'Shona', 'Sindhi', 'Sinhala', 'Slovak', 'Slovenian', 'Somali', 'Spanish', 'Sundanese', 'Swahili', 'Swedish', 'Tajik', 'Tamil', 'Telugu', 'Thai', 'Turkish', 'Ukrainian', 'Urdu', 'Uyghur', 'Uzbek', 'Vietnamese', 'Welsh', 'Xhosa', 'Yiddish', 'Yoruba', 'Zulu']\n"
     ]
    }
   ],
   "source": [
    "lang = df['name'].to_list()\n",
    "print(lang)"
   ]
  },
  {
   "cell_type": "code",
   "execution_count": 12,
   "id": "a5f78974-4c4a-408b-8c33-d8f468c0f2d7",
   "metadata": {},
   "outputs": [
    {
     "name": "stdout",
     "output_type": "stream",
     "text": [
      "('Afrikaans', 'Albanian', 'Amharic', 'Arabic', 'Armenian', 'Azerbaijani', 'Basque', 'Belarusian', 'Bengali', 'Bosnian', 'Bulgarian', 'Catalan', 'Cebuano', 'Chichewa', 'Chinese (Simplified)', 'Chinese (Traditional)', 'Corsican', 'Croatian', 'Czech', 'Danish', 'Dutch', 'English', 'Esperanto', 'Estonian', 'Filipino', 'Finnish', 'French', 'Frisian', 'Galician', 'Georgian', 'German', 'Greek', 'Gujarati', 'Haitian Creole', 'Hausa', 'Hawaiian', 'Hebrew', 'Hindi', 'Hmong', 'Hungarian', 'Icelandic', 'Igbo', 'Indonesian', 'Irish', 'Italian', 'Japanese', 'Javanese', 'Kannada', 'Kazakh', 'Khmer', 'Kinyarwanda', 'Korean', 'Kurdish (Kurmanji)', 'Kyrgyz', 'Lao', 'Latin', 'Latvian', 'Lithuanian', 'Luxembourgish', 'Macedonian', 'Malagasy', 'Malay', 'Malayalam', 'Maltese', 'Maori', 'Marathi', 'Mongolian', 'Myanmar (Burmese)', 'Nepali', 'Norwegian', 'Pashto', 'Persian', 'Polish', 'Portuguese', 'Punjabi', 'Romanian', 'Russian', 'Samoan', 'Scots Gaelic', 'Serbian', 'Sesotho', 'Shona', 'Sindhi', 'Sinhala', 'Slovak', 'Slovenian', 'Somali', 'Spanish', 'Sundanese', 'Swahili', 'Swedish', 'Tajik', 'Tamil', 'Telugu', 'Thai', 'Turkish', 'Ukrainian', 'Urdu', 'Uyghur', 'Uzbek', 'Vietnamese', 'Welsh', 'Xhosa', 'Yiddish', 'Yoruba', 'Zulu')\n"
     ]
    }
   ],
   "source": [
    "langlist = tuple(lang)\n",
    "print(langlist)"
   ]
  },
  {
   "cell_type": "code",
   "execution_count": 13,
   "id": "01d87ec1-a806-47d8-957a-dd49744675de",
   "metadata": {},
   "outputs": [
    {
     "name": "stdout",
     "output_type": "stream",
     "text": [
      "['af', 'sq', 'am', 'ar', 'hy', 'az', 'eu', 'be', 'bn', 'bs', 'bg', 'ca', 'ceb', 'nl', 'zh-CN', 'zh-TW', 'co', 'hr', 'cs', 'da', 'nl', 'en', 'eo', 'et', 'tl', 'fi', 'fr', 'fy', 'gl', 'ka', 'de', 'el', 'gu', 'ht', 'ha', 'hw', 'he', 'hi', 'hmn', 'hu', 'is', 'ig', 'id', 'ga', 'it', 'ja', 'jw', 'kn', 'kk', 'km', 'rw', 'ko', 'ku', 'ky', 'lo', 'la', 'lv', 'lt', 'lb', 'mk', 'mg', 'ms', 'ml', 'mt', 'mi', 'mr', 'mn', 'my', 'ne', 'no', 'ps', 'fa', 'pl', 'pt', 'pa', 'ro', 'ru', 'sm', 'gd', 'sr', 'st', 'sn', 'sd', 'si', 'sk', 'sl', 'so', 'es', 'su', 'sw', 'sv', 'tg', 'ta', 'te', 'th', 'tr', 'uk', 'ur', 'ug', 'uz', 'vi', 'cy', 'xh', 'yi', 'yo', 'zu']\n"
     ]
    }
   ],
   "source": [
    "langcode = df['iso'].to_list()\n",
    "print(langcode)"
   ]
  },
  {
   "cell_type": "markdown",
   "id": "c6ba34fc-1084-4528-87c7-ad29acf0f647",
   "metadata": {
    "jp-MarkdownHeadingCollapsed": true
   },
   "source": [
    "## Make `langlist` and `langcode` Dictionary"
   ]
  },
  {
   "cell_type": "code",
   "execution_count": 15,
   "id": "90e62730-a743-435d-b13e-07e06b98d04a",
   "metadata": {},
   "outputs": [
    {
     "name": "stdout",
     "output_type": "stream",
     "text": [
      "{'Afrikaans': 'af', 'Albanian': 'sq', 'Amharic': 'am', 'Arabic': 'ar', 'Armenian': 'hy', 'Azerbaijani': 'az', 'Basque': 'eu', 'Belarusian': 'be', 'Bengali': 'bn', 'Bosnian': 'bs', 'Bulgarian': 'bg', 'Catalan': 'ca', 'Cebuano': 'ceb', 'Chichewa': 'nl', 'Chinese (Simplified)': 'zh-CN', 'Chinese (Traditional)': 'zh-TW', 'Corsican': 'co', 'Croatian': 'hr', 'Czech': 'cs', 'Danish': 'da', 'Dutch': 'nl', 'English': 'en', 'Esperanto': 'eo', 'Estonian': 'et', 'Filipino': 'tl', 'Finnish': 'fi', 'French': 'fr', 'Frisian': 'fy', 'Galician': 'gl', 'Georgian': 'ka', 'German': 'de', 'Greek': 'el', 'Gujarati': 'gu', 'Haitian Creole': 'ht', 'Hausa': 'ha', 'Hawaiian': 'hw', 'Hebrew': 'he', 'Hindi': 'hi', 'Hmong': 'hmn', 'Hungarian': 'hu', 'Icelandic': 'is', 'Igbo': 'ig', 'Indonesian': 'id', 'Irish': 'ga', 'Italian': 'it', 'Japanese': 'ja', 'Javanese': 'jw', 'Kannada': 'kn', 'Kazakh': 'kk', 'Khmer': 'km', 'Kinyarwanda': 'rw', 'Korean': 'ko', 'Kurdish (Kurmanji)': 'ku', 'Kyrgyz': 'ky', 'Lao': 'lo', 'Latin': 'la', 'Latvian': 'lv', 'Lithuanian': 'lt', 'Luxembourgish': 'lb', 'Macedonian': 'mk', 'Malagasy': 'mg', 'Malay': 'ms', 'Malayalam': 'ml', 'Maltese': 'mt', 'Maori': 'mi', 'Marathi': 'mr', 'Mongolian': 'mn', 'Myanmar (Burmese)': 'my', 'Nepali': 'ne', 'Norwegian': 'no', 'Pashto': 'ps', 'Persian': 'fa', 'Polish': 'pl', 'Portuguese': 'pt', 'Punjabi': 'pa', 'Romanian': 'ro', 'Russian': 'ru', 'Samoan': 'sm', 'Scots Gaelic': 'gd', 'Serbian': 'sr', 'Sesotho': 'st', 'Shona': 'sn', 'Sindhi': 'sd', 'Sinhala': 'si', 'Slovak': 'sk', 'Slovenian': 'sl', 'Somali': 'so', 'Spanish': 'es', 'Sundanese': 'su', 'Swahili': 'sw', 'Swedish': 'sv', 'Tajik': 'tg', 'Tamil': 'ta', 'Telugu': 'te', 'Thai': 'th', 'Turkish': 'tr', 'Ukrainian': 'uk', 'Urdu': 'ur', 'Uyghur': 'ug', 'Uzbek': 'uz', 'Vietnamese': 'vi', 'Welsh': 'cy', 'Xhosa': 'xh', 'Yiddish': 'yi', 'Yoruba': 'yo', 'Zulu': 'zu'}\n"
     ]
    }
   ],
   "source": [
    "lang_dict = {lang[i]: langcode[i] for i in range(len(langcode))}\n",
    "print(lang_dict)"
   ]
  },
  {
   "cell_type": "code",
   "execution_count": 16,
   "id": "93a550cd-2939-4348-bfde-7fab885ce987",
   "metadata": {},
   "outputs": [],
   "source": [
    "speech_langs = {\n",
    "    \"af\": \"Afrikaans\",\n",
    "    \"ar\": \"Arabic\",\n",
    "    \"bg\": \"Bulgarian\",\n",
    "    \"bn\": \"Bengali\",\n",
    "    \"bs\": \"Bosnian\",\n",
    "    \"ca\": \"Catalan\",\n",
    "    \"cs\": \"Czech\",\n",
    "    \"cy\": \"Welsh\",\n",
    "    \"da\": \"Danish\",\n",
    "    \"de\": \"German\",\n",
    "    \"el\": \"Greek\",\n",
    "    \"en\": \"English\",\n",
    "    \"eo\": \"Esperanto\",\n",
    "    \"es\": \"Spanish\",\n",
    "    \"et\": \"Estonian\",\n",
    "    \"fi\": \"Finnish\",\n",
    "    \"fr\": \"French\",\n",
    "    \"gu\": \"Gujarati\",\n",
    "    \"od\" : \"odia\",\n",
    "    \"hi\": \"Hindi\",\n",
    "    \"hr\": \"Croatian\",\n",
    "    \"hu\": \"Hungarian\",\n",
    "    \"hy\": \"Armenian\",\n",
    "    \"id\": \"Indonesian\",\n",
    "    \"is\": \"Icelandic\",\n",
    "    \"it\": \"Italian\",\n",
    "    \"ja\": \"Japanese\",\n",
    "    \"jw\": \"Javanese\",\n",
    "    \"km\": \"Khmer\",\n",
    "    \"kn\": \"Kannada\",\n",
    "    \"ko\": \"Korean\",\n",
    "    \"la\": \"Latin\",\n",
    "    \"lv\": \"Latvian\",\n",
    "    \"mk\": \"Macedonian\",\n",
    "    \"ml\": \"Malayalam\",\n",
    "    \"mr\": \"Marathi\",\n",
    "    \"my\": \"Myanmar (Burmese)\",\n",
    "    \"ne\": \"Nepali\",\n",
    "    \"nl\": \"Dutch\",\n",
    "    \"no\": \"Norwegian\",\n",
    "    \"pl\": \"Polish\",\n",
    "    \"pt\": \"Portuguese\",\n",
    "    \"ro\": \"Romanian\",\n",
    "    \"ru\": \"Russian\",\n",
    "    \"si\": \"Sinhala\",\n",
    "    \"sk\": \"Slovak\",\n",
    "    \"sq\": \"Albanian\",\n",
    "    \"sr\": \"Serbian\",\n",
    "    \"su\": \"Sundanese\",\n",
    "    \"sv\": \"Swedish\",\n",
    "    \"sw\": \"Swahili\",\n",
    "    \"ta\": \"Tamil\",\n",
    "    \"te\": \"Telugu\",\n",
    "    \"th\": \"Thai\",\n",
    "    \"tl\": \"Filipino\",\n",
    "    \"tr\": \"Turkish\",\n",
    "    \"uk\": \"Ukrainian\",\n",
    "    \"ur\": \"Urdu\",\n",
    "    \"vi\": \"Vietnamese\",\n",
    "    \"zh-CN\": \"Chinese\"\n",
    "}"
   ]
  },
  {
   "cell_type": "code",
   "execution_count": 17,
   "id": "e766889c-8b3d-4bc7-8281-1d025734c547",
   "metadata": {},
   "outputs": [
    {
     "name": "stdout",
     "output_type": "stream",
     "text": [
      "{'af': 'Afrikaans', 'ar': 'Arabic', 'bg': 'Bulgarian', 'bn': 'Bengali', 'bs': 'Bosnian', 'ca': 'Catalan', 'cs': 'Czech', 'cy': 'Welsh', 'da': 'Danish', 'de': 'German', 'el': 'Greek', 'en': 'English', 'eo': 'Esperanto', 'es': 'Spanish', 'et': 'Estonian', 'fi': 'Finnish', 'fr': 'French', 'gu': 'Gujarati', 'od': 'odia', 'hi': 'Hindi', 'hr': 'Croatian', 'hu': 'Hungarian', 'hy': 'Armenian', 'id': 'Indonesian', 'is': 'Icelandic', 'it': 'Italian', 'ja': 'Japanese', 'jw': 'Javanese', 'km': 'Khmer', 'kn': 'Kannada', 'ko': 'Korean', 'la': 'Latin', 'lv': 'Latvian', 'mk': 'Macedonian', 'ml': 'Malayalam', 'mr': 'Marathi', 'my': 'Myanmar (Burmese)', 'ne': 'Nepali', 'nl': 'Dutch', 'no': 'Norwegian', 'pl': 'Polish', 'pt': 'Portuguese', 'ro': 'Romanian', 'ru': 'Russian', 'si': 'Sinhala', 'sk': 'Slovak', 'sq': 'Albanian', 'sr': 'Serbian', 'su': 'Sundanese', 'sv': 'Swedish', 'sw': 'Swahili', 'ta': 'Tamil', 'te': 'Telugu', 'th': 'Thai', 'tl': 'Filipino', 'tr': 'Turkish', 'uk': 'Ukrainian', 'ur': 'Urdu', 'vi': 'Vietnamese', 'zh-CN': 'Chinese'}\n"
     ]
    }
   ],
   "source": [
    "print(speech_langs)"
   ]
  },
  {
   "cell_type": "markdown",
   "id": "e70f1f9b-8c1e-41a4-9c25-e24a961690b7",
   "metadata": {
    "jp-MarkdownHeadingCollapsed": true
   },
   "source": [
    "## Translate Input Text and Make Audio File "
   ]
  },
  {
   "cell_type": "code",
   "execution_count": 29,
   "id": "4a9325ea-2c5a-4dbf-9552-9af113ac826f",
   "metadata": {},
   "outputs": [],
   "source": [
    "choice = 'Telugu'\n",
    "inputtext = 'My name is Rajeev. I am living in Hyderabad.'"
   ]
  },
  {
   "cell_type": "code",
   "execution_count": 40,
   "id": "2402ed06-95e9-4975-9585-b589a189874b",
   "metadata": {},
   "outputs": [
    {
     "data": {
      "text/plain": [
       "'te'"
      ]
     },
     "execution_count": 40,
     "metadata": {},
     "output_type": "execute_result"
    }
   ],
   "source": [
    "lang_dict[choice]"
   ]
  },
  {
   "cell_type": "code",
   "execution_count": 30,
   "id": "6a994107-8dad-421e-9856-7f195069bb87",
   "metadata": {},
   "outputs": [
    {
     "name": "stdout",
     "output_type": "stream",
     "text": [
      "నా పేరు రాజీవ్. నేను హైదరాబాద్‌లో ఉంటున్నాను.\n"
     ]
    }
   ],
   "source": [
    "if len(inputtext) > 0 :\n",
    "    output = translate(inputtext, lang_dict[choice])\n",
    "    print(output)"
   ]
  },
  {
   "cell_type": "code",
   "execution_count": 48,
   "id": "2677da76-39ab-462c-b755-e181900e156f",
   "metadata": {},
   "outputs": [
    {
     "data": {
      "text/html": [
       "\n",
       "                <audio  controls=\"controls\" >\n",
       "                    <source src=\"data:audio/mpeg;base64,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\" type=\"audio/mpeg\" />\n",
       "                    Your browser does not support the audio element.\n",
       "                </audio>\n",
       "              "
      ],
      "text/plain": [
       "<IPython.lib.display.Audio object>"
      ]
     },
     "execution_count": 48,
     "metadata": {},
     "output_type": "execute_result"
    }
   ],
   "source": [
    "if choice in speech_langs.values():\n",
    "    aud_file = gTTS(output, lang=lang_dict[choice])\n",
    "    aud_file.save('lang1.mp3')\n",
    "\n",
    "sound_file = 'lang1.mp3'\n",
    "Audio(sound_file)"
   ]
  },
  {
   "cell_type": "markdown",
   "id": "116ee4f3-61ce-4942-9696-0b0a33638e74",
   "metadata": {
    "jp-MarkdownHeadingCollapsed": true
   },
   "source": [
    "## Create Local File Download Link and Audio Play Containers in Streamlit"
   ]
  },
  {
   "cell_type": "code",
   "execution_count": 20,
   "id": "eab30d88-8434-4ec3-be7a-4d4e20e28d55",
   "metadata": {},
   "outputs": [],
   "source": [
    "def get_binary_file_downloader_html(bin_file, file_label='File'):\n",
    "    with open(bin_file, 'rb') as f:\n",
    "        data = f.read()\n",
    "    bin_str = base64.b64encode(data).decode()\n",
    "    href = f'<a href=\"data:application/octet-stream;base64,{bin_str}\" download=\"{os.path.basename(bin_file)}\">Download {file_label}</a>'\n",
    "    return href"
   ]
  },
  {
   "cell_type": "code",
   "execution_count": null,
   "id": "f0d46a19-ff0d-4352-bc65-add04c13f78b",
   "metadata": {},
   "outputs": [],
   "source": [
    "if len(inputtext) > 0 :\n",
    "    try:\n",
    "        output = translate(inputtext,lang_array[choice])\n",
    "        print(output)\n",
    "        if choice in speech_langs.values():\n",
    "            aud_file = gTTS(output, lang=lang_array[choice])\n",
    "            aud_file.save(\"lang.mp3\")\n",
    "            audio_file_read = open('lang.mp3', 'rb')\n",
    "            audio_bytes = audio_file_read.read()\n",
    "            bin_str = base64.b64encode(audio_bytes).decode()\n",
    "            st.audio(audio_bytes, format='audio/mp3')\n",
    "            st.markdown(get_binary_file_downloader_html(\"lang.mp3\", 'Audio File'), unsafe_allow_html=True)\n",
    "    except Exception as e:\n",
    "        st.error(e)"
   ]
  },
  {
   "cell_type": "code",
   "execution_count": 49,
   "id": "3e1a44a4-69d2-4fd2-a434-d8eecd89e835",
   "metadata": {},
   "outputs": [
    {
     "data": {
      "text/plain": [
       "_io.BufferedReader"
      ]
     },
     "execution_count": 49,
     "metadata": {},
     "output_type": "execute_result"
    }
   ],
   "source": [
    "audio_file_read = open('lang1.mp3', 'rb')\n",
    "type(audio_file_read)"
   ]
  },
  {
   "cell_type": "code",
   "execution_count": 50,
   "id": "a562ec97-41cc-437d-a00f-da07ccb39dee",
   "metadata": {},
   "outputs": [
    {
     "data": {
      "text/plain": [
       "<_io.BufferedReader name='lang1.mp3'>"
      ]
     },
     "execution_count": 50,
     "metadata": {},
     "output_type": "execute_result"
    }
   ],
   "source": [
    "audio_file_read"
   ]
  },
  {
   "cell_type": "code",
   "execution_count": 51,
   "id": "493be6d0-7b71-4df7-a756-0c8dd3ab568b",
   "metadata": {},
   "outputs": [
    {
     "data": {
      "text/plain": [
       "bytes"
      ]
     },
     "execution_count": 51,
     "metadata": {},
     "output_type": "execute_result"
    }
   ],
   "source": [
    "audio_bytes = audio_file_read.read()\n",
    "type(audio_bytes)"
   ]
  },
  {
   "cell_type": "code",
   "execution_count": 75,
   "id": "e20ef2e1-d45a-4f95-9bda-16a4b1748883",
   "metadata": {},
   "outputs": [
    {
     "data": {
      "text/plain": [
       "b'\\xff\\xf3\\x84\\xc4\\x00\\x00\\x00\\x00\\x00\\x00\\x00\\x00\\x00\\x00\\x00\\x00\\x00\\x00\\x00\\x00\\x00\\x00\\x00\\x00\\x00\\x00\\x00\\x00\\x00\\x00\\x00\\x00\\x00\\x00\\x00\\x00\\x00\\x00\\x00\\x00\\x00\\x00\\x00\\x00\\x00\\x00\\x00\\x00\\x00\\x00'"
      ]
     },
     "execution_count": 75,
     "metadata": {},
     "output_type": "execute_result"
    }
   ],
   "source": [
    "audio_bytes[0:50]"
   ]
  },
  {
   "cell_type": "code",
   "execution_count": 53,
   "id": "07db43ce-ab17-481a-9945-4273f287f328",
   "metadata": {},
   "outputs": [
    {
     "data": {
      "text/plain": [
       "str"
      ]
     },
     "execution_count": 53,
     "metadata": {},
     "output_type": "execute_result"
    }
   ],
   "source": [
    "bin_str = base64.b64encode(audio_bytes).decode()\n",
    "type(bin_str)"
   ]
  },
  {
   "cell_type": "code",
   "execution_count": 77,
   "id": "e1b06e1e-128f-4b5b-a2e3-3a5b61ae7e6e",
   "metadata": {},
   "outputs": [
    {
     "data": {
      "text/plain": [
       "'//OExAAAAAAAAAAAAAAAAAAAAAAAAAAAAAAAAAAAAAAAAAAAAAAAAAAAAAAAAAAAAAAAAAAAAAAAAAAAAAAAAAAAAAAAAAAAAAAAAAAAAAAAAAAAAAAAAAAAAAAAAAAAAAAAAAAAAAAAAAAAAAAAAAAAAAAAAAAAAAAAAAAAAAAAAAAAAAAAAAAAAAAAAAAAAAAAAAAAAAAAAAAAAAAAAAAAAAAAAAAAAAAAAAAAAAAAAAAAAAAAAAAAAAAAAAAA//OExAAl+2IYAMMKvG0wgNDghSbzhaw+AxjL4LUidO7bX49IJehACGIVoUX0hMHKMONtCQTD9evOz9evM1dhIUvHjdiQWGxDP99szfXrS2SHWlnXgfle8sqv+SK6Eq6OmjK7HOhJznc6EJoR'"
      ]
     },
     "execution_count": 77,
     "metadata": {},
     "output_type": "execute_result"
    }
   ],
   "source": [
    "bin_str[0:400]"
   ]
  },
  {
   "cell_type": "code",
   "execution_count": 62,
   "id": "2ab64060-6a37-46c8-bded-031a15ecefa6",
   "metadata": {},
   "outputs": [
    {
     "name": "stdout",
     "output_type": "stream",
     "text": [
      "<a href=\"data:application/octet-stream;base64,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\" download=\"lang.mp3\">Download Audio File</a>\n"
     ]
    }
   ],
   "source": [
    "def get_binary_file_downloader_html(bin_file, file_label='File'):\n",
    "    with open(bin_file, 'rb') as f:\n",
    "        data = f.read()\n",
    "    bin_str = base64.b64encode(data).decode()\n",
    "    href = f'<a href=\"data:application/octet-stream;base64,{bin_str}\" download=\"{os.path.basename(bin_file)}\">Download {file_label}</a>'\n",
    "    print(href)\n",
    "\n",
    "get_binary_file_downloader_html('lang.mp3', 'Audio File')"
   ]
  },
  {
   "cell_type": "code",
   "execution_count": 67,
   "id": "4fea32d4-8ff7-40ee-8940-551838f62517",
   "metadata": {},
   "outputs": [
    {
     "data": {
      "text/plain": [
       "{'lang.mp3'}"
      ]
     },
     "execution_count": 67,
     "metadata": {},
     "output_type": "execute_result"
    }
   ],
   "source": [
    "bin_file = 'lang.mp3'\n",
    "download = {os.path.basename(bin_file)}\n",
    "download"
   ]
  },
  {
   "cell_type": "code",
   "execution_count": 71,
   "id": "7e9bd2be-54e0-4eb3-a412-581211fb4ed1",
   "metadata": {},
   "outputs": [
    {
     "data": {
      "text/plain": [
       "<module 'ntpath' (frozen)>"
      ]
     },
     "execution_count": 71,
     "metadata": {},
     "output_type": "execute_result"
    }
   ],
   "source": [
    "os.path"
   ]
  },
  {
   "cell_type": "code",
   "execution_count": 72,
   "id": "c6b05b24-d4f6-429a-864c-be8931636478",
   "metadata": {},
   "outputs": [
    {
     "data": {
      "text/plain": [
       "<function ntpath.basename(p)>"
      ]
     },
     "execution_count": 72,
     "metadata": {},
     "output_type": "execute_result"
    }
   ],
   "source": [
    "os.path.basename"
   ]
  },
  {
   "cell_type": "code",
   "execution_count": 74,
   "id": "d393b410-66f4-4edd-be2d-5a9b86a909a5",
   "metadata": {},
   "outputs": [
    {
     "data": {
      "text/plain": [
       "'lang.mp3'"
      ]
     },
     "execution_count": 74,
     "metadata": {},
     "output_type": "execute_result"
    }
   ],
   "source": [
    "os.path.basename('lang.mp3')"
   ]
  }
 ],
 "metadata": {
  "kernelspec": {
   "display_name": "Python 3 (ipykernel)",
   "language": "python",
   "name": "python3"
  },
  "language_info": {
   "codemirror_mode": {
    "name": "ipython",
    "version": 3
   },
   "file_extension": ".py",
   "mimetype": "text/x-python",
   "name": "python",
   "nbconvert_exporter": "python",
   "pygments_lexer": "ipython3",
   "version": "3.12.4"
  }
 },
 "nbformat": 4,
 "nbformat_minor": 5
}
